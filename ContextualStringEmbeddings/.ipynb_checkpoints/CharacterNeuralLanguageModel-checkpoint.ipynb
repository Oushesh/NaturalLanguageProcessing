{
 "cells": [
  {
   "cell_type": "code",
   "execution_count": 1,
   "metadata": {},
   "outputs": [],
   "source": [
    "#Develop Character Language Model\n",
    "#https://machinelearningmastery.com/develop-character-based-neural-language-model-keras/"
   ]
  },
  {
   "cell_type": "code",
   "execution_count": 2,
   "metadata": {},
   "outputs": [],
   "source": [
    "#Load Text"
   ]
  },
  {
   "cell_type": "code",
   "execution_count": 3,
   "metadata": {},
   "outputs": [],
   "source": [
    "#with open(path, 'r', encoding=\"utf-8\") as f:\n",
    "def load_doc(filename):\n",
    "\t# open the file as read only\n",
    "\tfile = open(filename, 'r',encoding=\"utf-8\")\n",
    "\t# read all text\n",
    "\ttext = file.read()\n",
    "\t# close the file\n",
    "\tfile.close()\n",
    "\treturn text"
   ]
  },
  {
   "cell_type": "code",
   "execution_count": 4,
   "metadata": {},
   "outputs": [
    {
     "name": "stdout",
     "output_type": "stream",
     "text": [
      "Sing a song of sixpence,\n",
      "A pocket full of rye.\n",
      "Four and twenty blackbirds,\n",
      "Baked in a pie.\n",
      " \n",
      "When the pie was opened\n",
      "The birds began to sing;\n",
      "Wasn't that a dainty dish,\n",
      "To set before the king.\n",
      " \n",
      "The king was in his counting house,\n",
      "Counting out his money;\n",
      "The queen was in the parlour,\n",
      "Eating bread and honey.\n",
      " \n",
      "The maid was in the garden,\n",
      "Hanging out the clothes,\n",
      "When down came a blackbird\n",
      "And pecked off her nose.\n"
     ]
    }
   ],
   "source": [
    "# load text\n",
    "raw_text = load_doc('ryhme.txt')\n",
    "print(raw_text)"
   ]
  },
  {
   "cell_type": "code",
   "execution_count": 5,
   "metadata": {},
   "outputs": [
    {
     "name": "stdout",
     "output_type": "stream",
     "text": [
      "41915785\n"
     ]
    }
   ],
   "source": [
    "# load text\n",
    "raw_text = load_doc('news.txt')\n",
    "print(len(raw_text))"
   ]
  },
  {
   "cell_type": "code",
   "execution_count": 45,
   "metadata": {},
   "outputs": [],
   "source": [
    "#print(raw_text[5:500])"
   ]
  },
  {
   "cell_type": "code",
   "execution_count": 9,
   "metadata": {},
   "outputs": [
    {
     "data": {
      "text/plain": [
       "'Clean Text'"
      ]
     },
     "execution_count": 9,
     "metadata": {},
     "output_type": "execute_result"
    }
   ],
   "source": [
    "\"\"\"Clean Text\"\"\""
   ]
  },
  {
   "cell_type": "code",
   "execution_count": 10,
   "metadata": {},
   "outputs": [],
   "source": [
    "tokens = raw_text.split()\n",
    "raw_text = ' '.join(tokens)"
   ]
  },
  {
   "cell_type": "code",
   "execution_count": 11,
   "metadata": {},
   "outputs": [
    {
     "data": {
      "text/plain": [
       "'Create Sequences'"
      ]
     },
     "execution_count": 11,
     "metadata": {},
     "output_type": "execute_result"
    }
   ],
   "source": [
    "\"\"\"Create Sequences\"\"\""
   ]
  },
  {
   "cell_type": "code",
   "execution_count": 12,
   "metadata": {},
   "outputs": [
    {
     "name": "stdout",
     "output_type": "stream",
     "text": [
      "Total Sequences: 41915774\n"
     ]
    }
   ],
   "source": [
    "# organize into sequences of characters\n",
    "length = 10\n",
    "sequences = list()\n",
    "for i in range(length, len(raw_text)):\n",
    "\t# select sequence of tokens\n",
    "\tseq = raw_text[i-length:i+1]\n",
    "\t# store\n",
    "\tsequences.append(seq)\n",
    "print('Total Sequences: %d' % len(sequences))"
   ]
  },
  {
   "cell_type": "code",
   "execution_count": 13,
   "metadata": {},
   "outputs": [
    {
     "data": {
      "text/plain": [
       "'Save Sequences'"
      ]
     },
     "execution_count": 13,
     "metadata": {},
     "output_type": "execute_result"
    }
   ],
   "source": [
    "\"\"\"Save Sequences\"\"\""
   ]
  },
  {
   "cell_type": "code",
   "execution_count": 14,
   "metadata": {},
   "outputs": [],
   "source": [
    "# save tokens to file, one dialog per line\n",
    "def save_doc(lines, filename):\n",
    "\tdata = '\\n'.join(lines)\n",
    "\tfile = open(filename, 'w',encoding=\"utf-8\")\n",
    "\tfile.write(data)\n",
    "\tfile.close()"
   ]
  },
  {
   "cell_type": "code",
   "execution_count": 15,
   "metadata": {},
   "outputs": [],
   "source": [
    "# save sequences to file\n",
    "out_filename = 'char_sequences.txt'\n",
    "save_doc(sequences, out_filename)"
   ]
  },
  {
   "cell_type": "code",
   "execution_count": 16,
   "metadata": {},
   "outputs": [
    {
     "data": {
      "text/plain": [
       "'Load the Saved Sequences'"
      ]
     },
     "execution_count": 16,
     "metadata": {},
     "output_type": "execute_result"
    }
   ],
   "source": [
    "\"\"\"Load the Saved Sequences\"\"\""
   ]
  },
  {
   "cell_type": "code",
   "execution_count": 17,
   "metadata": {},
   "outputs": [],
   "source": [
    "# load\n",
    "in_filename = 'char_sequences.txt'\n",
    "raw_text = load_doc(in_filename)\n",
    "lines = raw_text.split('\\n')"
   ]
  },
  {
   "cell_type": "code",
   "execution_count": 18,
   "metadata": {},
   "outputs": [
    {
     "name": "stdout",
     "output_type": "stream",
     "text": [
      "['Sing a song', 'ing a song ', 'ng a song o', 'g a song of', ' a song of ', 'a song of s', ' song of si', 'song of six', 'ong of sixp', 'ng of sixpe', 'g of sixpen', ' of sixpenc', 'of sixpence', 'f sixpence,', ' sixpence, ', 'sixpence, A', 'ixpence, A ', 'xpence, A p', 'pence, A po', 'ence, A poc', 'nce, A pock', 'ce, A pocke', 'e, A pocket', ', A pocket ', ' A pocket f', 'A pocket fu', ' pocket ful', 'pocket full', 'ocket full ', 'cket full o', 'ket full of', 'et full of ', 't full of r', ' full of ry', 'full of rye', 'ull of rye.', 'll of rye. ', 'l of rye. F', ' of rye. Fo', 'of rye. Fou', 'f rye. Four', ' rye. Four ', 'rye. Four a', 'ye. Four an', 'e. Four and', '. Four and ', ' Four and t', 'Four and tw', 'our and twe', 'ur and twen', 'r and twent', ' and twenty', 'and twenty ', 'nd twenty b', 'd twenty bl', ' twenty bla', 'twenty blac', 'wenty black', 'enty blackb', 'nty blackbi', 'ty blackbir', 'y blackbird', ' blackbirds', 'blackbirds,', 'lackbirds, ', 'ackbirds, B', 'ckbirds, Ba', 'kbirds, Bak', 'birds, Bake', 'irds, Baked', 'rds, Baked ', 'ds, Baked i', 's, Baked in', ', Baked in ', ' Baked in a', 'Baked in a ', 'aked in a p', 'ked in a pi', 'ed in a pie', 'd in a pie.', ' in a pie. ', 'in a pie. W', 'n a pie. Wh', ' a pie. Whe', 'a pie. When', ' pie. When ', 'pie. When t', 'ie. When th', 'e. When the', '. When the ', ' When the p', 'When the pi', 'hen the pie', 'en the pie ', 'n the pie w', ' the pie wa', 'the pie was', 'he pie was ', 'e pie was o', ' pie was op', 'pie was ope', 'ie was open', 'e was opene', ' was opened', 'was opened ', 'as opened T', 's opened Th', ' opened The', 'opened The ', 'pened The b', 'ened The bi', 'ned The bir', 'ed The bird', 'd The birds', ' The birds ', 'The birds b', 'he birds be', 'e birds beg', ' birds bega', 'birds began', 'irds began ', 'rds began t', 'ds began to', 's began to ', ' began to s', 'began to si', 'egan to sin', 'gan to sing', 'an to sing;', 'n to sing; ', ' to sing; W', 'to sing; Wa', 'o sing; Was', ' sing; Wasn', \"sing; Wasn'\", \"ing; Wasn't\", \"ng; Wasn't \", \"g; Wasn't t\", \"; Wasn't th\", \" Wasn't tha\", \"Wasn't that\", \"asn't that \", \"sn't that a\", \"n't that a \", \"'t that a d\", 't that a da', ' that a dai', 'that a dain', 'hat a daint', 'at a dainty', 't a dainty ', ' a dainty d', 'a dainty di', ' dainty dis', 'dainty dish', 'ainty dish,', 'inty dish, ', 'nty dish, T', 'ty dish, To', 'y dish, To ', ' dish, To s', 'dish, To se', 'ish, To set', 'sh, To set ', 'h, To set b', ', To set be', ' To set bef', 'To set befo', 'o set befor', ' set before', 'set before ', 'et before t', 't before th', ' before the', 'before the ', 'efore the k', 'fore the ki', 'ore the kin', 're the king', 'e the king.', ' the king. ', 'the king. T', 'he king. Th', 'e king. The', ' king. The ', 'king. The k', 'ing. The ki', 'ng. The kin', 'g. The king', '. The king ', ' The king w', 'The king wa', 'he king was', 'e king was ', ' king was i', 'king was in', 'ing was in ', 'ng was in h', 'g was in hi', ' was in his', 'was in his ', 'as in his c', 's in his co', ' in his cou', 'in his coun', 'n his count', ' his counti', 'his countin', 'is counting', 's counting ', ' counting h', 'counting ho', 'ounting hou', 'unting hous', 'nting house', 'ting house,', 'ing house, ', 'ng house, C', 'g house, Co', ' house, Cou', 'house, Coun', 'ouse, Count', 'use, Counti', 'se, Countin', 'e, Counting', ', Counting ', ' Counting o', 'Counting ou', 'ounting out', 'unting out ', 'nting out h', 'ting out hi', 'ing out his', 'ng out his ', 'g out his m', ' out his mo', 'out his mon', 'ut his mone', 't his money', ' his money;', 'his money; ', 'is money; T', 's money; Th', ' money; The', 'money; The ', 'oney; The q', 'ney; The qu', 'ey; The que', 'y; The quee', '; The queen', ' The queen ', 'The queen w', 'he queen wa', 'e queen was', ' queen was ', 'queen was i', 'ueen was in', 'een was in ', 'en was in t', 'n was in th', ' was in the', 'was in the ', 'as in the p', 's in the pa', ' in the par', 'in the parl', 'n the parlo', ' the parlou', 'the parlour', 'he parlour,', 'e parlour, ', ' parlour, E', 'parlour, Ea', 'arlour, Eat', 'rlour, Eati', 'lour, Eatin', 'our, Eating', 'ur, Eating ', 'r, Eating b', ', Eating br', ' Eating bre', 'Eating brea', 'ating bread', 'ting bread ', 'ing bread a', 'ng bread an', 'g bread and', ' bread and ', 'bread and h', 'read and ho', 'ead and hon', 'ad and hone', 'd and honey', ' and honey.', 'and honey. ', 'nd honey. T', 'd honey. Th', ' honey. The', 'honey. The ', 'oney. The m', 'ney. The ma', 'ey. The mai', 'y. The maid', '. The maid ', ' The maid w', 'The maid wa', 'he maid was', 'e maid was ', ' maid was i', 'maid was in', 'aid was in ', 'id was in t', 'd was in th', ' was in the', 'was in the ', 'as in the g', 's in the ga', ' in the gar', 'in the gard', 'n the garde', ' the garden', 'the garden,', 'he garden, ', 'e garden, H', ' garden, Ha', 'garden, Han', 'arden, Hang', 'rden, Hangi', 'den, Hangin', 'en, Hanging', 'n, Hanging ', ', Hanging o', ' Hanging ou', 'Hanging out', 'anging out ', 'nging out t', 'ging out th', 'ing out the', 'ng out the ', 'g out the c', ' out the cl', 'out the clo', 'ut the clot', 't the cloth', ' the clothe', 'the clothes', 'he clothes,', 'e clothes, ', ' clothes, W', 'clothes, Wh', 'lothes, Whe', 'othes, When', 'thes, When ', 'hes, When d', 'es, When do', 's, When dow', ', When down', ' When down ', 'When down c', 'hen down ca', 'en down cam', 'n down came', ' down came ', 'down came a', 'own came a ', 'wn came a b', 'n came a bl', ' came a bla', 'came a blac', 'ame a black', 'me a blackb', 'e a blackbi', ' a blackbir', 'a blackbird', ' blackbird ', 'blackbird A', 'lackbird An', 'ackbird And', 'ckbird And ', 'kbird And p', 'bird And pe', 'ird And pec', 'rd And peck', 'd And pecke', ' And pecked', 'And pecked ', 'nd pecked o', 'd pecked of', ' pecked off', 'pecked off ', 'ecked off h', 'cked off he', 'ked off her', 'ed off her ', 'd off her n', ' off her no', 'off her nos', 'ff her nose', 'f her nose.']\n"
     ]
    }
   ],
   "source": [
    "print (lines)"
   ]
  },
  {
   "cell_type": "code",
   "execution_count": null,
   "metadata": {},
   "outputs": [],
   "source": [
    "\"\"\"Train the LSTM Model\"\"\""
   ]
  },
  {
   "cell_type": "code",
   "execution_count": 18,
   "metadata": {},
   "outputs": [
    {
     "name": "stderr",
     "output_type": "stream",
     "text": [
      "\n",
      "KeyboardInterrupt\n",
      "\n"
     ]
    }
   ],
   "source": [
    "from numpy import array\n",
    "from pickle import dump\n",
    "from keras.utils import to_categorical\n",
    "from keras.models import Sequential\n",
    "from keras.layers import Dense\n",
    "from keras.layers import LSTM\n",
    " \n",
    "# load doc into memory\n",
    "def load_doc(filename):\n",
    "\t# open the file as read only\n",
    "\tfile = open(filename, 'r')\n",
    "\t# read all text\n",
    "\ttext = file.read()\n",
    "\t# close the file\n",
    "\tfile.close()\n",
    "\treturn text\n",
    " \n",
    "# load\n",
    "in_filename = 'char_sequences.txt'\n",
    "raw_text = load_doc(in_filename)\n",
    "lines = raw_text.split('\\n')\n",
    " \n",
    "# integer encode sequences of characters\n",
    "chars = sorted(list(set(raw_text)))\n",
    "mapping = dict((c, i) for i, c in enumerate(chars))\n",
    "sequences = list()\n",
    "for line in lines:\n",
    "\t# integer encode line\n",
    "\tencoded_seq = [mapping[char] for char in line]\n",
    "\t# store\n",
    "\tsequences.append(encoded_seq)\n",
    " \n",
    "# vocabulary size\n",
    "vocab_size = len(mapping)\n",
    "print('Vocabulary Size: %d' % vocab_size)\n",
    " \n",
    "# separate into input and output\n",
    "sequences = array(sequences)\n",
    "X, y = sequences[:,:-1], sequences[:,-1]\n",
    "sequences = [to_categorical(x, num_classes=vocab_size) for x in X]\n",
    "X = array(sequences)\n",
    "y = to_categorical(y, num_classes=vocab_size)\n",
    " \n",
    "# define model\n",
    "model = Sequential()\n",
    "model.add(LSTM(75, input_shape=(X.shape[1], X.shape[2])))\n",
    "model.add(Dense(vocab_size, activation='softmax'))\n",
    "print(model.summary())\n",
    "# compile model\n",
    "model.compile(loss='categorical_crossentropy', optimizer='adam', metrics=['accuracy'])\n",
    "# fit model\n",
    "model.fit(X, y, epochs=100, verbose=2)\n",
    " \n",
    "# save the model to file\n",
    "model.save('model.h5')\n",
    "# save the mapping\n",
    "dump(mapping, open('mapping.pkl', 'wb'))"
   ]
  },
  {
   "cell_type": "code",
   "execution_count": 36,
   "metadata": {},
   "outputs": [
    {
     "data": {
      "text/plain": [
       "'Now we can have a look at the Generated Model:'"
      ]
     },
     "execution_count": 36,
     "metadata": {},
     "output_type": "execute_result"
    }
   ],
   "source": [
    "\"\"\"Now we can have a look at the Generated Model:\"\"\""
   ]
  },
  {
   "cell_type": "code",
   "execution_count": 38,
   "metadata": {},
   "outputs": [
    {
     "name": "stdout",
     "output_type": "stream",
     "text": [
      "Sing a song of sixpence, A poc\n",
      "king was in his counting house\n",
      "hello worlem Wlh me  a.ed rhee\n"
     ]
    }
   ],
   "source": [
    "from pickle import load\n",
    "from keras.models import load_model\n",
    "from keras.utils import to_categorical\n",
    "from keras.preprocessing.sequence import pad_sequences\n",
    " \n",
    "# generate a sequence of characters with a language model\n",
    "def generate_seq(model, mapping, seq_length, seed_text, n_chars):\n",
    "\tin_text = seed_text\n",
    "\t# generate a fixed number of characters\n",
    "\tfor _ in range(n_chars):\n",
    "\t\t# encode the characters as integers\n",
    "\t\tencoded = [mapping[char] for char in in_text]\n",
    "\t\t# truncate sequences to a fixed length\n",
    "\t\tencoded = pad_sequences([encoded], maxlen=seq_length, truncating='pre')\n",
    "\t\t# one hot encode\n",
    "\t\tencoded = to_categorical(encoded, num_classes=len(mapping))\n",
    "\t\t#encoded = encoded.reshape(1, encoded.shape[0], encoded.shape[1])\n",
    "\t\t# predict character\n",
    "\t\tyhat = model.predict_classes(encoded, verbose=0)\n",
    "\t\t# reverse map integer to character\n",
    "\t\tout_char = ''\n",
    "\t\tfor char, index in mapping.items():\n",
    "\t\t\tif index == yhat:\n",
    "\t\t\t\tout_char = char\n",
    "\t\t\t\tbreak\n",
    "\t\t# append to input\n",
    "\t\tin_text += char\n",
    "\treturn in_text\n",
    " \n",
    "# load the model\n",
    "model = load_model('model.h5')\n",
    "# load the mapping\n",
    "mapping = load(open('mapping.pkl', 'rb'))\n",
    " \n",
    "# test start of rhyme\n",
    "print(generate_seq(model, mapping, 10, 'Sing a son', 20))\n",
    "# test mid-line\n",
    "print(generate_seq(model, mapping, 10, 'king was i', 20))\n",
    "# test not in original\n",
    "print(generate_seq(model, mapping, 10, 'hello worl', 20))"
   ]
  },
  {
   "cell_type": "code",
   "execution_count": null,
   "metadata": {},
   "outputs": [],
   "source": []
  }
 ],
 "metadata": {
  "kernelspec": {
   "display_name": "Python 3",
   "language": "python",
   "name": "python3"
  },
  "language_info": {
   "codemirror_mode": {
    "name": "ipython",
    "version": 3
   },
   "file_extension": ".py",
   "mimetype": "text/x-python",
   "name": "python",
   "nbconvert_exporter": "python",
   "pygments_lexer": "ipython3",
   "version": "3.6.6"
  }
 },
 "nbformat": 4,
 "nbformat_minor": 2
}
